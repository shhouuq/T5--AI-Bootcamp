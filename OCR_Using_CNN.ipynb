{
  "cells": [
    {
      "cell_type": "markdown",
      "id": "f029bf03",
      "metadata": {
        "id": "f029bf03"
      },
      "source": [
        "# OCR Application Using CNN on MNIST Dataset\n",
        "This notebook demonstrates how to apply Convolutional Neural Networks (CNN) for Optical Character Recognition (OCR). We will be working with the MNIST dataset, which contains images of handwritten digits. The goal is to build an OCR system that can accurately classify these digits using deep learning with CNN.\n",
        "We will:\n",
        "1. Load and preprocess the dataset\n",
        "2. Build and train a CNN model\n",
        "3. Make predictions on new images"
      ]
    },
    {
      "cell_type": "markdown",
      "id": "45192701",
      "metadata": {
        "id": "45192701"
      },
      "source": [
        "## Step 1: Import Libraries\n",
        "Let's start by importing the necessary libraries for building and training our model."
      ]
    },
    {
      "cell_type": "code",
      "execution_count": null,
      "id": "d4d8100c",
      "metadata": {
        "id": "d4d8100c"
      },
      "outputs": [],
      "source": [
        "import keras\n",
        "from keras.datasets import mnist\n",
        "from keras.models import Sequential\n",
        "from keras.layers import Dense, Dropout, Flatten\n",
        "from keras.layers import Conv2D, MaxPooling2D\n",
        "import cv2\n",
        "import random\n",
        "import numpy as np\n",
        "import matplotlib.pyplot as plt"
      ]
    },
    {
      "cell_type": "markdown",
      "id": "fbfc2a04",
      "metadata": {
        "id": "fbfc2a04"
      },
      "source": [
        "## Step 2: Load and Preprocess the MNIST Dataset\n",
        "We will now load the MNIST dataset, reshape it to fit the input of our CNN model, and normalize the data to be in the range [0, 1]."
      ]
    },
    {
      "cell_type": "code",
      "execution_count": null,
      "id": "a283f1dc",
      "metadata": {
        "id": "a283f1dc"
      },
      "outputs": [],
      "source": [
        "(x_train, y_train), (x_test, y_test) = mnist.load_data()\n",
        "\n",
        "# Reshaping and normalizing\n",
        "x_train = x_train.reshape(x_train.shape[0], 28, 28, 1)\n",
        "x_test = x_test.reshape(x_test.shape[0], 28, 28, 1)\n",
        "input_shape = (28, 28, 1)\n",
        "\n",
        "x_train = x_train.astype('float32')\n",
        "x_test = x_test.astype('float32')\n",
        "x_train /= 255\n",
        "x_test /= 255\n",
        "\n",
        "# One-hot encode the labels\n",
        "y_train = keras.utils.to_categorical(y_train, 10)\n",
        "y_test = keras.utils.to_categorical(y_test, 10)"
      ]
    },
    {
      "cell_type": "markdown",
      "id": "4136658c",
      "metadata": {
        "id": "4136658c"
      },
      "source": [
        "## Step 3: Build the CNN Model\n",
        "We'll define a simple CNN model with the following layers:\n",
        "- Convolutional layers for feature extraction\n",
        "- MaxPooling for downsampling\n",
        "- Dropout layers to prevent overfitting\n",
        "- Dense layers for final classification"
      ]
    },
    {
      "cell_type": "code",
      "execution_count": null,
      "id": "76643ee9",
      "metadata": {
        "id": "76643ee9"
      },
      "outputs": [],
      "source": [
        "model = Sequential()\n",
        "model.add(Conv2D(32, kernel_size=(3, 3), activation='relu', input_shape=input_shape))\n",
        "model.add(Conv2D(64, (3, 3), activation='relu'))\n",
        "model.add(MaxPooling2D(pool_size=(2, 2)))\n",
        "model.add(Dropout(0.25))\n",
        "model.add(Flatten())\n",
        "model.add(Dense(128, activation='relu'))\n",
        "model.add(Dropout(0.5))\n",
        "model.add(Dense(10, activation='softmax'))"
      ]
    },
    {
      "cell_type": "markdown",
      "id": "842ca22a",
      "metadata": {
        "id": "842ca22a"
      },
      "source": [
        "## Step 4: Compile and Train the Model\n",
        "Next, we'll compile our model using categorical cross-entropy as the loss function, Adadelta as the optimizer, and accuracy as the metric.\n",
        "After compiling, we'll train the model on the training dataset."
      ]
    },
    {
      "cell_type": "code",
      "execution_count": null,
      "id": "a9c21872",
      "metadata": {
        "id": "a9c21872"
      },
      "outputs": [],
      "source": [
        "model.compile(loss=keras.losses.categorical_crossentropy,\n",
        "              optimizer=keras.optimizers.Adadelta(),\n",
        "              metrics=['accuracy'])\n",
        "\n",
        "model.fit(x_train, y_train,\n",
        "          batch_size=128,\n",
        "          epochs=12,\n",
        "          verbose=1,\n",
        "          validation_data=(x_test, y_test))"
      ]
    },
    {
      "cell_type": "markdown",
      "id": "294ccec8",
      "metadata": {
        "id": "294ccec8"
      },
      "source": [
        "## Step 5: Visualizing Random Predictions from the Test Set\n",
        "Finally, let's visualize a random image from the test set along with the model's prediction."
      ]
    },
    {
      "cell_type": "code",
      "execution_count": null,
      "id": "a4a9443c",
      "metadata": {
        "id": "a4a9443c"
      },
      "outputs": [],
      "source": [
        "\n",
        "# Select a random image\n",
        "random_idx = random.randint(0, x_test.shape[0] - 1)\n",
        "random_image = x_test[random_idx]\n",
        "\n",
        "# Get the model's prediction\n",
        "predicted_label = model.predict(random_image.reshape(1, 28, 28, 1)).argmax()\n",
        "\n",
        "# Plot the image\n",
        "plt.imshow(random_image.squeeze(), cmap='gray')\n",
        "plt.title(f'Model Prediction: {predicted_label}')\n",
        "plt.axis('off')\n",
        "plt.show()"
      ]
    }
  ],
  "metadata": {
    "colab": {
      "provenance": [],
      "gpuType": "T4"
    },
    "accelerator": "GPU",
    "language_info": {
      "name": "python"
    },
    "kernelspec": {
      "name": "python3",
      "display_name": "Python 3"
    }
  },
  "nbformat": 4,
  "nbformat_minor": 5
}